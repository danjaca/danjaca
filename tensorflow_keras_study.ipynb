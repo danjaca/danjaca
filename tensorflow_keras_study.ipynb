{
  "nbformat": 4,
  "nbformat_minor": 0,
  "metadata": {
    "colab": {
      "name": "tensorflow-keras-study.ipynb",
      "provenance": [],
      "authorship_tag": "ABX9TyMDVr9eMl5Xx9XZlCbbOlN3"
    },
    "kernelspec": {
      "name": "python3",
      "display_name": "Python 3"
    },
    "language_info": {
      "name": "python"
    }
  },
  "cells": [
    {
      "cell_type": "code",
      "source": [
        "import tensorflow as tf\n",
        "from tensorflow import keras\n",
        "import numpy as np"
      ],
      "metadata": {
        "id": "t-Ff0ByFdqus"
      },
      "execution_count": 3,
      "outputs": []
    },
    {
      "cell_type": "markdown",
      "source": [
        "#1\n",
        "Casa com 1 quarto -> 100K\n",
        "\n",
        "casa com 2 quartos -> 150k\n",
        "\n",
        "casa com 3 quartos -> 200k"
      ],
      "metadata": {
        "id": "dF-STLfkeRO9"
      }
    },
    {
      "cell_type": "code",
      "source": [
        "model = keras.Sequential([keras.layers.Dense(units=1,input_shape=[1])])\n",
        "model.compile(optimizer='sgd',loss='mean_squared_error')\n",
        "xs = np.array([1,2,3],dtype=float)\n",
        "ys = np.array([1,1.5,2.0],dtype=float)\n",
        "history = model.fit(xs,ys,epochs=1000)\n",
        "\n"
      ],
      "metadata": {
        "id": "PDT5wXBWePyg"
      },
      "execution_count": null,
      "outputs": []
    },
    {
      "cell_type": "code",
      "source": [
        "print(history.history['loss'][-1])"
      ],
      "metadata": {
        "colab": {
          "base_uri": "https://localhost:8080/"
        },
        "id": "90p_VEIimjbT",
        "outputId": "d607db36-8c85-4686-82cf-53c5899ce20f"
      },
      "execution_count": 38,
      "outputs": [
        {
          "output_type": "stream",
          "name": "stdout",
          "text": [
            "0.0006560441106557846\n"
          ]
        }
      ]
    },
    {
      "cell_type": "code",
      "source": [
        "print(model.predict([7.0]))\n"
      ],
      "metadata": {
        "colab": {
          "base_uri": "https://localhost:8080/"
        },
        "id": "3Q10izW6gNbl",
        "outputId": "d6b4a4b7-95d2-4611-8576-d5757ebcec67"
      },
      "execution_count": 31,
      "outputs": [
        {
          "output_type": "stream",
          "name": "stdout",
          "text": [
            "[[4.025077]]\n"
          ]
        }
      ]
    },
    {
      "cell_type": "code",
      "source": [
        ""
      ],
      "metadata": {
        "id": "k4WMUOzyeQdN"
      },
      "execution_count": 29,
      "outputs": []
    }
  ]
}